{
 "cells": [
  {
   "cell_type": "code",
   "execution_count": null,
   "metadata": {},
   "outputs": [],
   "source": [
    "import os\n",
    "from dotenv import load_dotenv\n",
    "from ollama import Client\n",
    "\n",
    "load_dotenv()\n",
    "HOST_URL = os.getenv('HOST_URL')\n",
    "\n",
    "\n",
    "# api 호출\n",
    "client = Client(host=HOST_URL)\n"
   ]
  },
  {
   "cell_type": "markdown",
   "metadata": {},
   "source": [
    "## 다운로드 완료한 모델 목록 출력"
   ]
  },
  {
   "cell_type": "code",
   "execution_count": null,
   "metadata": {},
   "outputs": [
    {
     "data": {
      "text/plain": [
       "[Model(model='llava-llama3:latest', modified_at=datetime.datetime(2025, 2, 9, 7, 47, 17, 755136, tzinfo=TzInfo(UTC)), digest='44c161b1f46523301da9c0cc505afa4a4a0cc62f580581d98a430bb21acd46de', size=5545682182, details=ModelDetails(parent_model='', format='gguf', family='llama', families=['llama', 'clip'], parameter_size='8B', quantization_level='Q4_K_M')),\n",
       " Model(model='erwan2/DeepSeek-Janus-Pro-7B:latest', modified_at=datetime.datetime(2025, 2, 9, 7, 27, 16, 454441, tzinfo=TzInfo(UTC)), digest='e877a212a6a7b915619769804ef20a97dd14ea59f1b1141206e9d0a6554bdd17', size=4223360703, details=ModelDetails(parent_model='', format='gguf', family='llama', families=['llama'], parameter_size='6.9B', quantization_level='Q4_K_M')),\n",
       " Model(model='llama3.2-vision:latest', modified_at=datetime.datetime(2025, 2, 9, 7, 16, 13, 614472, tzinfo=TzInfo(UTC)), digest='085a1fdae525a3804ac95416b38498099c241defd0f1efc71dcca7f63190ba3d', size=7901829417, details=ModelDetails(parent_model='', format='gguf', family='mllama', families=['mllama', 'mllama'], parameter_size='9.8B', quantization_level='Q4_K_M')),\n",
       " Model(model='llama3.2-vision:90b', modified_at=datetime.datetime(2025, 2, 9, 7, 15, 15, 26828, tzinfo=TzInfo(UTC)), digest='d2a5e64c56a9cfed42fc0b8040a717e899d20646ce1ae8314bbe2e9a416f7eeb', size=54713024426, details=ModelDetails(parent_model='', format='gguf', family='mllama', families=['mllama', 'mllama'], parameter_size='87.7B', quantization_level='Q4_K_M'))]"
      ]
     },
     "execution_count": 19,
     "metadata": {},
     "output_type": "execute_result"
    }
   ],
   "source": [
    "models = client.list()\n",
    "models.models  "
   ]
  },
  {
   "cell_type": "code",
   "execution_count": null,
   "metadata": {},
   "outputs": [],
   "source": []
  },
  {
   "cell_type": "markdown",
   "metadata": {},
   "source": [
    "## 단순 테스트 \n"
   ]
  },
  {
   "cell_type": "code",
   "execution_count": 23,
   "metadata": {},
   "outputs": [
    {
     "data": {
      "text/plain": [
       "'The image presents a pair of business cards, both resting on a light gray background. The top card is white and bears the phrase \"After glow\" in black text at the center. Just below this, there\\'s another line of text that reads \"Positive thinking\". \\n\\nBeneath these two lines, there\\'s an address written in Korean: \"서울시 강남구 신정로 1234번길\", which translates to \"Seoul City Gangnam-gu Shinjeong-ro 1234-beon-gil\".\\n\\nThe bottom card is black and features the phrase \"After glow\" at the top. Below this, there\\'s a phone number written in Korean: \"+82 2)3456789\". \\n\\nBoth cards are positioned side by side, with their respective texts facing upwards. The overall layout suggests they belong to the same individual or business entity.'"
      ]
     },
     "execution_count": 23,
     "metadata": {},
     "output_type": "execute_result"
    }
   ],
   "source": [
    "from ollama import Client\n",
    "\n",
    "# proxy URL을 사용하여 클라이언트 생성\n",
    "\n",
    "# 이미지를 바이너리로 읽기\n",
    "def encode_image_to_base64(image_path):\n",
    "    with open(image_path, 'rb') as image_file:\n",
    "        return image_file.read()\n",
    "    \n",
    "# 모델 사용 예시\n",
    "\n",
    "def test(model, question, image_path):\n",
    "    response = client.chat(model=model, \n",
    "                        messages=[\n",
    "                            {\n",
    "                                'role': 'user',\n",
    "                                'content': question,\n",
    "                                'images' : [encode_image_to_base64(image_path)]\n",
    "                            }\n",
    "                        ],\n",
    "                        options={\n",
    "                                'temperature': 0.3,      # 낮을수록 더 일관된 출력 (0.0 ~ 1.0)\n",
    "                                'top_p': 0.1,           # 낮을수록 더 집중된 출력\n",
    "                                'frequency_penalty': 0.5,  # 높을수록 반복 감소\n",
    "                                'presence_penalty': 0.5,   # 높을수록 다양한 토픽 포함\n",
    "                                'stop': ['!', '?'],  # 문장 끝에서 멈추도록 설정\n",
    "                                'max_tokens': 500        # 최대 토큰 수 제한\n",
    "                            })\n",
    "\n",
    "    return response['message']['content']\n",
    "\n",
    "\n",
    "test(\"llava-llama3\",\"이미지에 보이는걸 말해줘\", \"data/images/image_1.png\")\n",
    "\n"
   ]
  },
  {
   "cell_type": "code",
   "execution_count": null,
   "metadata": {},
   "outputs": [],
   "source": []
  }
 ],
 "metadata": {
  "kernelspec": {
   "display_name": "tf25",
   "language": "python",
   "name": "python3"
  },
  "language_info": {
   "codemirror_mode": {
    "name": "ipython",
    "version": 3
   },
   "file_extension": ".py",
   "mimetype": "text/x-python",
   "name": "python",
   "nbconvert_exporter": "python",
   "pygments_lexer": "ipython3",
   "version": "3.8.5"
  }
 },
 "nbformat": 4,
 "nbformat_minor": 2
}
